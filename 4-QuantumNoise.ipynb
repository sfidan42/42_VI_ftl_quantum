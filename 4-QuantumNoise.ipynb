{
 "cells": [
  {
   "cell_type": "markdown",
   "metadata": {},
   "source": [
    "## Exercise 4: Quantum Noise"
   ]
  },
  {
   "cell_type": "markdown",
   "metadata": {},
   "source": [
    "Take the program from exercise 3, and modify it to run your circuit on a real quantum computer.\n",
    "\n",
    "Your results between exercise 3 and 4 should be different, even though the circuit is identical. It’s up to you to understand why.\n",
    "\n",
    "From there, we strongly advise you to go back to what you have done,\n",
    "and understand the applied math/vector formulas behind each action,\n",
    "and test the different existing gates."
   ]
  }
 ],
 "metadata": {
  "language_info": {
   "name": "python"
  }
 },
 "nbformat": 4,
 "nbformat_minor": 2
}
