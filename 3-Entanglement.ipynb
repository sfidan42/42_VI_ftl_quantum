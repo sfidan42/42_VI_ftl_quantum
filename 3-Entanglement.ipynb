{
 "cells": [
  {
   "cell_type": "markdown",
   "metadata": {},
   "source": [
    "## Exercise 3: Entanglement\n",
    "Write a program that will produce a quantum circuit with two qubits in order to obtain this $\\frac{1}{\\sqrt{2}}(|00\\rangle+|11\\rangle)$ state using the principle of superposition and quantum entanglement.\n",
    "\n",
    "The program must display the circuit, then run it on a quantum simulator with 500 shots and then display the results in a plot_histogram.\n",
    "\n",
    "Be sure you understand the principle of quantum entanglement and the $\\frac{1}{\\sqrt{2}}(|00\\rangle+|11\\rangle)$ notation before continuing."
   ]
  },
  {
   "cell_type": "markdown",
   "metadata": {},
   "source": [
    "#### Solution\n",
    "\n",
    "0. Let $|\\psi_0\\rangle = |00\\rangle$\n",
    "1. Apply Hadamard Gate on first bit: $|\\psi_1\\rangle = |+0\\rangle = \\frac{1}{\\sqrt{2}}|00\\rangle + \\frac{1}{\\sqrt{2}}|10\\rangle$\n",
    "2. Apply CNOT Gate on second bit as first bit is for control: $|\\psi_2\\rangle = \\frac{1}{\\sqrt{2}}|00\\rangle + \\frac{1}{\\sqrt{2}}|11\\rangle$\n",
    "\n",
    "Here $|\\psi_2\\rangle = \\frac{1}{\\sqrt{2}}(|00\\rangle + |11\\rangle)$"
   ]
  },
  {
   "cell_type": "code",
   "execution_count": null,
   "metadata": {},
   "outputs": [],
   "source": [
    "from qiskit import QuantumCircuit, transpile\n",
    "from qiskit_aer import Aer\n",
    "from sources.QuantumPlot import qplot\n",
    "\n",
    "# Create Circuit\n",
    "qc = QuantumCircuit(2)  # Single qubit quantum circuit\n",
    "qc.h(0)  # Hadamard gate on qubit 0\n",
    "qc.cx(0, 1) # CNOT gate from qubit 0 to qubit 1\n",
    "qc.measure_all()  # Measeure all qubits.\n",
    "\n",
    "# Simulate Circuit\n",
    "backend = Aer.get_backend('qasm_simulator')  # Get the Aer simulator\n",
    "qc = transpile(qc, backend)  # Optimize and transpile\n",
    "result = backend.run(qc, shots = 500).result()  # 500 shots\n",
    "counts = result.get_counts(qc)\n",
    "\n",
    "# Plot Results\n",
    "qplot(counts)\n",
    "qc.draw(output='mpl')"
   ]
  }
 ],
 "metadata": {
  "kernelspec": {
   "display_name": ".venv",
   "language": "python",
   "name": "python3"
  },
  "language_info": {
   "name": "python",
   "version": "3.12.3"
  }
 },
 "nbformat": 4,
 "nbformat_minor": 2
}
