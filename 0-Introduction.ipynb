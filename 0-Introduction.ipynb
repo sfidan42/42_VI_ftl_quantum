{
 "cells": [
  {
   "cell_type": "markdown",
   "metadata": {},
   "source": [
    "### Bloch Sphere:\n",
    "![bloch sphere image](./images/bloch_sphere.png)"
   ]
  },
  {
   "cell_type": "markdown",
   "metadata": {},
   "source": [
    "# FTL_QUANTUM\n",
    "## Quantum Logic Gates\n",
    "### X, Z, H (Hadamard), T\n",
    "```\n",
    "   ┌───┐      ┌───┐      ┌───┐      ┌───┐ \n",
    "q: ┤ X ├   q: ┤ Z ├   q: ┤ H ├   q: ┤ T ├ \n",
    "   └───┘      └───┘      └───┘      └───┘ \n",
    "```\n",
    "\n",
    "$q = \\begin{bmatrix} \\alpha \\\\ \\beta \\end{bmatrix} \\rarr \\text{X Gate} \\rarr \\begin{bmatrix} 0 & 1 \\\\ 1 & 0 \\end{bmatrix}\\begin{bmatrix} \\alpha \\\\ \\beta \\end{bmatrix} = \\begin{bmatrix} \\beta \\\\ \\alpha \\end{bmatrix}$\n",
    "\n",
    "$q = \\begin{bmatrix} \\alpha \\\\ \\beta \\end{bmatrix} \\rarr \\text{Z Gate} \\rarr \\begin{bmatrix} 1 & 0 \\\\ 0 & -1 \\end{bmatrix}\\begin{bmatrix} \\alpha \\\\ \\beta \\end{bmatrix} = \\begin{bmatrix} \\alpha \\\\ -\\beta \\end{bmatrix}$\n",
    "\n",
    "$q = \\begin{bmatrix} \\alpha \\\\ \\beta \\end{bmatrix} \\rarr \\text{H Gate} \\rarr \\frac{1}{\\sqrt{2}} \\begin{bmatrix} 1 & 1 \\\\ 1 & -1 \\end{bmatrix}\\begin{bmatrix} \\alpha \\\\ \\beta \\end{bmatrix} = \\frac{1}{\\sqrt{2}}\\begin{bmatrix} \\alpha + \\beta \\\\ \\alpha - \\beta \\end{bmatrix}$\n",
    "\n",
    "$q = \\begin{bmatrix} 0 \\\\ 1 \\end{bmatrix} = |1\\rangle \\rarr \\text{H Gate} \\rarr \\frac{1}{\\sqrt{2}} \\begin{bmatrix} 1 & 1 \\\\ 1 & -1 \\end{bmatrix}\\begin{bmatrix} 0 \\\\ 1 \\end{bmatrix} = \\frac{1}{\\sqrt{2}}\\begin{bmatrix} +1 \\\\ -1 \\end{bmatrix} = |-\\rangle$\n",
    "\n",
    "$q = \\begin{bmatrix} 1 \\\\ 0 \\end{bmatrix} = |0\\rangle \\rarr \\text{H Gate} \\rarr \\frac{1}{\\sqrt{2}} \\begin{bmatrix} 1 & 1 \\\\ 1 & -1 \\end{bmatrix}\\begin{bmatrix} 1 \\\\ 0 \\end{bmatrix} = \\frac{1}{\\sqrt{2}}\\begin{bmatrix} +1 \\\\ +1 \\end{bmatrix} = |+\\rangle$\n",
    "\n",
    "$q = \\begin{bmatrix} \\alpha \\\\ \\beta \\end{bmatrix} \\rarr \\text{H Gate} \\rarr \\begin{bmatrix} 1 & 0 \\\\ 0 & e^{{i\\pi}/4} \\end{bmatrix}\\begin{bmatrix} \\alpha \\\\ \\beta \\end{bmatrix} = \\frac{1}{\\sqrt{2}}\\begin{bmatrix} \\alpha \\\\ e^{{i\\pi}/4} \\beta \\end{bmatrix}$"
   ]
  },
  {
   "cell_type": "markdown",
   "metadata": {},
   "source": [
    "### CNOT (XOR) / CX\n",
    "```\n",
    "q_0: ──■──      ──■── \n",
    "     ┌─┴─┐  ==    |   \n",
    "q_1: ┤ X ├        |   \n",
    "     └───┘      ──⊕── \n",
    "```\n",
    "\n",
    "$\n",
    "CNOT(q_0, q_1) = \\begin{bmatrix} 1 & 0 & 0 & 0 \\\\ 0 & 1 & 0 & 0 \\\\ 0 & 0 & 0 & 1 \\\\ 0 & 0 & 1 & 0 \\end{bmatrix} \\begin{bmatrix} a \\\\ b \\\\ c \\\\ d \\end{bmatrix}\n",
    "= \\begin{bmatrix} a \\\\ b \\\\ d \\\\ c \\end{bmatrix}\n",
    "= a|00\\rangle+b|01\\rangle+d|10\\rangle+c|11\\rangle\n",
    "$\n",
    "\n",
    "### SWAP\n",
    "\n",
    "```\n",
    "     ──X── \n",
    "Swap   |   \n",
    "       |   \n",
    "     ──X── \n",
    "```\n",
    "$\n",
    "Swap(q_0, q_1) = \\begin{bmatrix} 1 & 0 & 0 & 0 \\\\ 0 & 0 & 1 & 0 \\\\ 0 & 1 & 0 & 0 \\\\ 0 & 0 & 0 & 1 \\end{bmatrix} \\begin{bmatrix} a \\\\ b \\\\ c \\\\ d \\end{bmatrix}\n",
    "= \\begin{bmatrix} a \\\\ c \\\\ b \\\\ d \\end{bmatrix}\n",
    "= a|00\\rangle+c|01\\rangle+b|10\\rangle+d|11\\rangle\n",
    "$"
   ]
  }
 ],
 "metadata": {
  "language_info": {
   "name": "python"
  }
 },
 "nbformat": 4,
 "nbformat_minor": 2
}
