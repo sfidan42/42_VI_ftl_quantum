{
 "cells": [
  {
   "cell_type": "markdown",
   "metadata": {},
   "source": [
    "### Bloch Sphere:\n",
    "![bloch sphere image](./images/bloch_sphere.png)\n",
    "\n",
    "Mathematically applying a tranformation to a qubit shouldn't change its magnitude. \n",
    "\n",
    "So all quantum gates should be unitary operators.\n",
    "\n",
    "A matrix $U$ is unitary if it has the following properties:\n",
    "1. **Inversibility**: Unitary matrices must be invertible. That is, when you take the inverse of a unitary matrix, you get another unitary matrix.\n",
    "2. **Norm Preservation**: If you apply a unitary matrix $U$ to a vector $v$, the norm (magnitude) of $v$ remains unchanged. That is, $|Uv|=|v|$. This is a fundamental principle in the evolution of quantum states because quantum information is preserved through the preservation of the norm of state vectors.\n",
    "3. **Matrix Property**: If $U$ is a unitary matrix, then $U^{-1} = U^\\dagger$, meaning the inverse of the matrix is equal to the conjugate transpose of the matrix.\n",
    "\n",
    "By structuring a quantum circuit using gates that are inherently unitary, we obtain a circuit with an equal number of inputs and outputs.\n",
    "\n",
    "### Why Quantum Circuits Typically Have the Same Number of Inputs and Outputs\n",
    "\n",
    "Quantum circuits generally maintain the same number of inputs and outputs to uphold key principles of quantum mechanics:\n",
    "\n",
    "- **Unitarity of Quantum Evolution**: Quantum state evolution is governed by unitary operators, which preserve probability. If the circuit has more outputs than inputs, it would violate reversibility, a fundamental property of quantum mechanics.\n",
    "\n",
    "- **Quantum Information Preservation**: Each qubit in a quantum circuit represents a unit of quantum information. Having an equal number of inputs and outputs ensures no information is lost during computation.\n",
    "\n",
    "- **Reversibility**: Quantum gates are reversible. The circuit maps input states to output states while preserving the ability to reverse the operation. This is easier when the number of qubits is the same on both ends.\n",
    "\n",
    "- **Measurement and State Collapse**: While quantum circuits may involve measurements, the number of inputs and outputs typically remains equal or similar. Measurements may reduce the number of classical bits, but the quantum circuit maintains the same number of quantum bits.\n",
    "\n",
    "In summary, the equal number of inputs and outputs ensures that the computation is unitary and reversible."
   ]
  },
  {
   "cell_type": "markdown",
   "metadata": {},
   "source": [
    "# FTL_QUANTUM\n",
    "## Quantum Logic Gates\n",
    "### X, Z, H (Hadamard), T\n",
    "```\n",
    "   ┌───┐      ┌───┐      ┌───┐      ┌───┐ \n",
    "q: ┤ X ├   q: ┤ Z ├   q: ┤ H ├   q: ┤ T ├ \n",
    "   └───┘      └───┘      └───┘      └───┘ \n",
    "```\n",
    "\n",
    "$q = \\begin{bmatrix} \\alpha \\\\ \\beta \\end{bmatrix} \\rarr \\text{X Gate} \\rarr \\begin{bmatrix} 0 & 1 \\\\ 1 & 0 \\end{bmatrix}\\begin{bmatrix} \\alpha \\\\ \\beta \\end{bmatrix} = \\begin{bmatrix} \\beta \\\\ \\alpha \\end{bmatrix}$\n",
    "\n",
    "$q = \\begin{bmatrix} \\alpha \\\\ \\beta \\end{bmatrix} \\rarr \\text{Z Gate} \\rarr \\begin{bmatrix} 1 & 0 \\\\ 0 & -1 \\end{bmatrix}\\begin{bmatrix} \\alpha \\\\ \\beta \\end{bmatrix} = \\begin{bmatrix} \\alpha \\\\ -\\beta \\end{bmatrix}$\n",
    "\n",
    "$q = \\begin{bmatrix} \\alpha \\\\ \\beta \\end{bmatrix} \\rarr \\text{H Gate} \\rarr \\frac{1}{\\sqrt{2}} \\begin{bmatrix} 1 & 1 \\\\ 1 & -1 \\end{bmatrix}\\begin{bmatrix} \\alpha \\\\ \\beta \\end{bmatrix} = \\frac{1}{\\sqrt{2}}\\begin{bmatrix} \\alpha + \\beta \\\\ \\alpha - \\beta \\end{bmatrix}$\n",
    "\n",
    "$q = \\begin{bmatrix} 0 \\\\ 1 \\end{bmatrix} = |1\\rangle \\rarr \\text{H Gate} \\rarr \\frac{1}{\\sqrt{2}} \\begin{bmatrix} 1 & 1 \\\\ 1 & -1 \\end{bmatrix}\\begin{bmatrix} 0 \\\\ 1 \\end{bmatrix} = \\frac{1}{\\sqrt{2}}\\begin{bmatrix} +1 \\\\ -1 \\end{bmatrix} = |-\\rangle$\n",
    "\n",
    "$q = \\begin{bmatrix} 1 \\\\ 0 \\end{bmatrix} = |0\\rangle \\rarr \\text{H Gate} \\rarr \\frac{1}{\\sqrt{2}} \\begin{bmatrix} 1 & 1 \\\\ 1 & -1 \\end{bmatrix}\\begin{bmatrix} 1 \\\\ 0 \\end{bmatrix} = \\frac{1}{\\sqrt{2}}\\begin{bmatrix} +1 \\\\ +1 \\end{bmatrix} = |+\\rangle$\n",
    "\n",
    "$q = \\begin{bmatrix} \\alpha \\\\ \\beta \\end{bmatrix} \\rarr \\text{H Gate} \\rarr \\begin{bmatrix} 1 & 0 \\\\ 0 & e^{{i\\pi}/4} \\end{bmatrix}\\begin{bmatrix} \\alpha \\\\ \\beta \\end{bmatrix} = \\frac{1}{\\sqrt{2}}\\begin{bmatrix} \\alpha \\\\ e^{{i\\pi}/4} \\beta \\end{bmatrix}$"
   ]
  },
  {
   "cell_type": "markdown",
   "metadata": {},
   "source": [
    "### CNOT (XOR) / CX\n",
    "```\n",
    "q_0: ──■──      ──■── \n",
    "     ┌─┴─┐  ==    |   \n",
    "q_1: ┤ X ├        |   \n",
    "     └───┘      ──⊕── \n",
    "```\n",
    "\n",
    "$\n",
    "CNOT(q_0, q_1) = \\begin{bmatrix} 1 & 0 & 0 & 0 \\\\ 0 & 1 & 0 & 0 \\\\ 0 & 0 & 0 & 1 \\\\ 0 & 0 & 1 & 0 \\end{bmatrix} \\begin{bmatrix} a \\\\ b \\\\ c \\\\ d \\end{bmatrix}\n",
    "= \\begin{bmatrix} a \\\\ b \\\\ d \\\\ c \\end{bmatrix}\n",
    "= a|00\\rangle+b|01\\rangle+d|10\\rangle+c|11\\rangle\n",
    "$\n",
    "\n",
    "### SWAP\n",
    "\n",
    "```\n",
    "     ──X── \n",
    "Swap   |   \n",
    "       |   \n",
    "     ──X── \n",
    "```\n",
    "$\n",
    "Swap(q_0, q_1) = \\begin{bmatrix} 1 & 0 & 0 & 0 \\\\ 0 & 0 & 1 & 0 \\\\ 0 & 1 & 0 & 0 \\\\ 0 & 0 & 0 & 1 \\end{bmatrix} \\begin{bmatrix} a \\\\ b \\\\ c \\\\ d \\end{bmatrix}\n",
    "= \\begin{bmatrix} a \\\\ c \\\\ b \\\\ d \\end{bmatrix}\n",
    "= a|00\\rangle+c|01\\rangle+b|10\\rangle+d|11\\rangle\n",
    "$"
   ]
  }
 ],
 "metadata": {
  "language_info": {
   "name": "python"
  }
 },
 "nbformat": 4,
 "nbformat_minor": 2
}
