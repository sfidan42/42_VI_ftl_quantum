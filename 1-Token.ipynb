{
 "cells": [
  {
   "cell_type": "markdown",
   "metadata": {},
   "source": [
    "## Exercise 1: Token"
   ]
  },
  {
   "cell_type": "markdown",
   "metadata": {},
   "source": [
    "By using the IBMQ.get_provider function, write a program that will have to:\n",
    "- List all available quantum simulators with their current queue.\n",
    "- List all available quantum computers with their current queue and the number of qubits they have.\n",
    "\n",
    "![Example Token](./images/expected_token_result.png)"
   ]
  },
  {
   "cell_type": "code",
   "execution_count": 1,
   "metadata": {},
   "outputs": [
    {
     "name": "stdout",
     "output_type": "stream",
     "text": [
      "Simulated quantum computers:\n",
      "\taer_simulator                       has    0 queues\n",
      "\taer_simulator_statevector           has    0 queues\n",
      "\taer_simulator_density_matrix        has    0 queues\n",
      "\taer_simulator_stabilizer            has    0 queues\n",
      "\taer_simulator_matrix_product_state  has    0 queues\n",
      "\taer_simulator_extended_stabilizer   has    0 queues\n",
      "\taer_simulator_unitary               has    0 queues\n",
      "\taer_simulator_superop               has    0 queues\n",
      "\tqasm_simulator                      has    0 queues\n",
      "\tstatevector_simulator               has    0 queues\n",
      "\tunitary_simulator                   has    0 queues\n",
      "Real quantum computers:\n",
      "\tibm_brisbane    has    1 queues with 127 qubits\n",
      "\tibm_kyiv        has    5 queues with 127 qubits\n",
      "\tibm_sherbrooke  has   30 queues with 127 qubits\n"
     ]
    }
   ],
   "source": [
    "from qiskit_aer import Aer\n",
    "from qiskit_ibm_runtime import QiskitRuntimeService\n",
    "\n",
    "# Load the IBM Quantum runtime service\n",
    "qkey = open('qkey.txt').read().strip()\n",
    "\n",
    "QiskitRuntimeService.save_account(channel=\"ibm_quantum\",\n",
    "                            token=qkey,\n",
    "                            overwrite=True,\n",
    "                            set_as_default=True)\n",
    "\n",
    "classic_pcs = QiskitRuntimeService().backends(simulator=True, operational=True)\n",
    "aer_pcs = Aer.backends()\n",
    "\n",
    "print(\"Simulated quantum computers:\")\n",
    "for cp in classic_pcs:\n",
    "\tprint(f'\\t{cp.name:<35s} has {cp.status().pending_jobs:4} queues')\n",
    "for ap in aer_pcs:\n",
    "\tprint(f'\\t{ap.name:<35s} has {ap.status().pending_jobs:4} queues')\n",
    "\n",
    "quantum_pcs = QiskitRuntimeService().backends(simulator=False, operational=True)\n",
    "\n",
    "print(\"Real quantum computers:\")\n",
    "for qc in quantum_pcs:\n",
    "    print(f'\\t{qc.name:<15s} has {qc.status().pending_jobs:4}'\n",
    "          f' queues with {qc.num_qubits:3} qubits')"
   ]
  }
 ],
 "metadata": {
  "kernelspec": {
   "display_name": ".venv",
   "language": "python",
   "name": "python3"
  },
  "language_info": {
   "codemirror_mode": {
    "name": "ipython",
    "version": 3
   },
   "file_extension": ".py",
   "mimetype": "text/x-python",
   "name": "python",
   "nbconvert_exporter": "python",
   "pygments_lexer": "ipython3",
   "version": "3.12.3"
  }
 },
 "nbformat": 4,
 "nbformat_minor": 2
}
