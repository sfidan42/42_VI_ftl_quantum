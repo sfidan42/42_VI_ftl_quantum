{
 "cells": [
  {
   "cell_type": "markdown",
   "metadata": {},
   "source": [
    "## Exercise 1: Token"
   ]
  },
  {
   "cell_type": "markdown",
   "metadata": {},
   "source": [
    "By using the IBMQ.get_provider function, write a program that will have to:\n",
    "- List all available quantum simulators with their current queue.\n",
    "- List all available quantum computers with their current queue and the number of qubits they have.\n",
    "![Example Token](./images/expected_token_result.png)"
   ]
  }
 ],
 "metadata": {
  "language_info": {
   "name": "python"
  }
 },
 "nbformat": 4,
 "nbformat_minor": 2
}
